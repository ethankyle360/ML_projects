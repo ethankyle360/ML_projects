{
  "nbformat": 4,
  "nbformat_minor": 0,
  "metadata": {
    "colab": {
      "provenance": [],
      "authorship_tag": "ABX9TyOAP6ZYp+c1PO8JJg8GN+v7",
      "include_colab_link": true
    },
    "kernelspec": {
      "name": "python3",
      "display_name": "Python 3"
    },
    "language_info": {
      "name": "python"
    }
  },
  "cells": [
    {
      "cell_type": "markdown",
      "metadata": {
        "id": "view-in-github",
        "colab_type": "text"
      },
      "source": [
        "<a href=\"https://colab.research.google.com/github/ethankyle360/ML_projects/blob/main/python_fundamentals_assignment.ipynb\" target=\"_parent\"><img src=\"https://colab.research.google.com/assets/colab-badge.svg\" alt=\"Open In Colab\"/></a>"
      ]
    },
    {
      "cell_type": "code",
      "execution_count": 2,
      "metadata": {
        "colab": {
          "base_uri": "https://localhost:8080/"
        },
        "id": "REiILFqmggQA",
        "outputId": "785ad07d-8c6c-4cbd-b6bd-a3c4f9242e32"
      },
      "outputs": [
        {
          "output_type": "execute_result",
          "data": {
            "text/plain": [
              "Index(['name', 'sports_car', 'suv', 'wagon', 'minivan', 'pickup', 'all_wheel',\n",
              "       'rear_wheel', 'Price', 'Dealer_Cost', 'Engine_size', 'cylenders',\n",
              "       'horsepower', 'city_miles_per_galloon', 'highway_miles_per_Gallon',\n",
              "       'weight', 'base_wheeel', 'length', 'width'],\n",
              "      dtype='object')"
            ]
          },
          "metadata": {},
          "execution_count": 2
        }
      ],
      "source": [
        "import pandas as pd\n",
        "cars=pd.read_csv('cars.csv')\n",
        "\n",
        "cars.head()\n",
        "cars.columns"
      ]
    },
    {
      "cell_type": "code",
      "source": [
        "#1 - How many rows are in the car's dataset?\n",
        "cars.shape[0]"
      ],
      "metadata": {
        "colab": {
          "base_uri": "https://localhost:8080/"
        },
        "id": "R6TE2LWahAj2",
        "outputId": "f32b11cc-4cad-4618-b656-a17b100f2e17"
      },
      "execution_count": 4,
      "outputs": [
        {
          "output_type": "execute_result",
          "data": {
            "text/plain": [
              "428"
            ]
          },
          "metadata": {},
          "execution_count": 4
        }
      ]
    },
    {
      "cell_type": "code",
      "source": [
        "#2 - How many columns are in the car's dataset?\n",
        "cars.shape[1]"
      ],
      "metadata": {
        "colab": {
          "base_uri": "https://localhost:8080/"
        },
        "id": "Qn4ur7F6hP4i",
        "outputId": "27d27e4f-a4b7-46cf-f603-46daa7065451"
      },
      "execution_count": 5,
      "outputs": [
        {
          "output_type": "execute_result",
          "data": {
            "text/plain": [
              "19"
            ]
          },
          "metadata": {},
          "execution_count": 5
        }
      ]
    },
    {
      "cell_type": "code",
      "source": [
        "#3 - How many unique numbers of cylinders do we have in the car's dataset?\n",
        "cars.cylenders.value_counts()"
      ],
      "metadata": {
        "colab": {
          "base_uri": "https://localhost:8080/"
        },
        "id": "F7V3cYs6ha0F",
        "outputId": "a4c8c18c-4a43-44dc-ddef-91d2957f7e6e"
      },
      "execution_count": 9,
      "outputs": [
        {
          "output_type": "execute_result",
          "data": {
            "text/plain": [
              "cylenders\n",
              " 6     190\n",
              " 4     136\n",
              " 8      87\n",
              " 5       7\n",
              " 12      3\n",
              " 10      2\n",
              "-1       2\n",
              " 3       1\n",
              "Name: count, dtype: int64"
            ]
          },
          "metadata": {},
          "execution_count": 9
        }
      ]
    }
  ]
}