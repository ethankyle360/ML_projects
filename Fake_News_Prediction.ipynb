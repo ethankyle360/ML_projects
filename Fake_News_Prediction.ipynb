{
  "nbformat": 4,
  "nbformat_minor": 0,
  "metadata": {
    "colab": {
      "provenance": [],
      "authorship_tag": "ABX9TyPl/t5njWWeP4fWNcCG3pr0",
      "include_colab_link": true
    },
    "kernelspec": {
      "name": "python3",
      "display_name": "Python 3"
    },
    "language_info": {
      "name": "python"
    }
  },
  "cells": [
    {
      "cell_type": "markdown",
      "metadata": {
        "id": "view-in-github",
        "colab_type": "text"
      },
      "source": [
        "<a href=\"https://colab.research.google.com/github/ethankyle360/ML_projects/blob/main/Fake_News_Prediction.ipynb\" target=\"_parent\"><img src=\"https://colab.research.google.com/assets/colab-badge.svg\" alt=\"Open In Colab\"/></a>"
      ]
    },
    {
      "cell_type": "markdown",
      "source": [
        "About the Dataset:\n",
        "1. ID: unique id for a news article\n",
        "2. Title: the title for a news article\n",
        "3. Author: author of the news article\n",
        "4. Text: the text of the article could be incomplete\n",
        "5. Label: a label that marks whether the news article is real or fake\n",
        "\n",
        "\n",
        "```\n",
        "    1: Fake code\n",
        "    2: Real code\n",
        "```\n",
        "\n"
      ],
      "metadata": {
        "id": "ou0ZMuOh7L54"
      }
    },
    {
      "cell_type": "markdown",
      "source": [
        "Importing the Dependencies"
      ],
      "metadata": {
        "id": "cItPUf0E8bQ4"
      }
    },
    {
      "cell_type": "code",
      "execution_count": 1,
      "metadata": {
        "id": "eeIKDybf6XSc"
      },
      "outputs": [],
      "source": [
        "import numpy as pd\n",
        "import pandas as pd\n",
        "import re\n",
        "from nltk.corpus import stopwords\n",
        "from nltk.stem.porter import PorterStemmer\n",
        "from sklearn.feature_extraction.text import TfidfVectorizer\n",
        "from sklearn.model_selection import train_test_split\n",
        "from sklearn.linear_model import LogisticRegression\n",
        "from sklearn.metrics import accuracy_score"
      ]
    },
    {
      "cell_type": "code",
      "source": [],
      "metadata": {
        "id": "mXAMpSjQ9wRU"
      },
      "execution_count": null,
      "outputs": []
    }
  ]
}